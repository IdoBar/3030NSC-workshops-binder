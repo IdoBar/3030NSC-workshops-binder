{
 "cells": [
  {
   "attachments": {},
   "cell_type": "markdown",
   "id": "0b4e1f3e-dc99-4d47-87e7-1118fa5df8ad",
   "metadata": {},
   "source": [
    "### Workshop 6 - Use R to perform differential gene expression (DGE) analysis\n",
    "  \n",
    "1. Activate a [conda](https://www.anaconda.com/products/distribution) environment that has all the R libraries (packages) we need for the analysis (and much more)  \n",
    "**Before running these commands make sure that the Kernel is changed to R!**"
   ]
  },
  {
   "cell_type": "code",
   "execution_count": null,
   "id": "bc993bf7-c690-4211-8fbe-63a8e93ecf2d",
   "metadata": {
    "tags": [],
    "vscode": {
     "languageId": "r"
    }
   },
   "outputs": [],
   "source": [
    "old_path <- Sys.getenv(\"PATH\")\n",
    "new_path <- \"/home/anaconda/miniconda3/bin\"\n",
    "Sys.setenv(PATH = paste(old_path, new_path, sep=\":\"))"
   ]
  },
  {
   "attachments": {},
   "cell_type": "markdown",
   "id": "c09f2598-df1c-48c2-8e73-42a3d1cb1d5f",
   "metadata": {},
   "source": [
    "2. Load the required R libraries/packages  "
   ]
  },
  {
   "cell_type": "code",
   "execution_count": null,
   "id": "012b1d70-642e-452b-bdd1-85494eb72896",
   "metadata": {
    "tags": [],
    "vscode": {
     "languageId": "r"
    }
   },
   "outputs": [],
   "source": [
    "options(warn=-1)\n",
    "suppressMessages(library(\"DESeq2\"))\n",
    "# library(\"DESeq2\")\n",
    "library(\"ggplot2\")\n",
    "library(\"EnhancedVolcano\")"
   ]
  },
  {
   "cell_type": "markdown",
   "id": "b6bb9ab8-dd7c-45bc-8c0c-1b93a6143ace",
   "metadata": {},
   "source": [
    "3. Read the data files (containing read counts and sample metadata table)  "
   ]
  },
  {
   "cell_type": "code",
   "execution_count": null,
   "id": "bbf72977-c7c9-47f6-a901-2d57cb8ba015",
   "metadata": {
    "vscode": {
     "languageId": "r"
    }
   },
   "outputs": [],
   "source": [
    "directory <- \"./HTSEQ/STAR37/\"\n",
    "\n",
    "sampleFiles <- list.files(directory)\n",
    "sampleCondition <- sub(\"_\\\\d.tab\",\"\",sampleFiles)\n",
    "samples <- data.frame(sampleName = sampleFiles,\n",
    "                           run = sampleFiles,\n",
    "                           condition = sampleCondition)\n",
    "run <- as.vector(samples$run)\n",
    "head(samples)\n",
    "\n",
    "write.csv(as.data.frame(samples),\n",
    "          file=\"output/Experimental_design.csv\")\n"
   ]
  },
  {
   "cell_type": "markdown",
   "id": "1b0824ae-b530-4aa6-a364-18ec5d7d26d4",
   "metadata": {},
   "source": [
    "4. Process the data to normalise the read counts and perform PCA"
   ]
  },
  {
   "cell_type": "code",
   "execution_count": null,
   "id": "9bb621d2-477b-497b-9a69-79f166cd0ed5",
   "metadata": {
    "vscode": {
     "languageId": "r"
    }
   },
   "outputs": [],
   "source": [
    "ddsHTSeq <- DESeqDataSetFromHTSeqCount(sampleTable = samples,\n",
    "                                       directory = directory,\n",
    "                                       design= ~ condition)\n",
    "ddsHTSeq\n",
    "\n",
    "\n",
    "keep <- rowSums(counts(ddsHTSeq)) >= 10\n",
    "ddsHTSeq <- ddsHTSeq[keep,]\n",
    "\n",
    "raw_counts <- data.frame(counts(ddsHTSeq))\n",
    "write.csv(as.data.frame(raw_counts),\n",
    "          file=\"output/Rawcounts.csv\", col.names = TRUE)\n",
    "\n",
    "vsd <- vst(ddsHTSeq, blind=FALSE)\n",
    "head(assay(vsd), 3)\n",
    "\n",
    "plotPCA(vsd, intgroup=c(\"condition\")) + geom_text(aes(label=name), vjust=2)\n",
    "ggsave(\"output/PCA.pdf\", width=8, height=5)\n",
    "\n",
    "write.csv(as.data.frame(assay(vsd)),\n",
    "          file=\"output/Normalized_counts.csv\")"
   ]
  },
  {
   "cell_type": "markdown",
   "id": "297c9a39-998a-4ab0-b9c2-763e36df013a",
   "metadata": {},
   "source": [
    "5. Perform the DGE analysis and create a volcano plot "
   ]
  },
  {
   "cell_type": "code",
   "execution_count": null,
   "id": "eb1f8ad6-181b-4cd7-ace1-05c1d9de9598",
   "metadata": {
    "tags": [],
    "vscode": {
     "languageId": "r"
    }
   },
   "outputs": [],
   "source": [
    "ddsHTSeq$condition <- relevel(ddsHTSeq$condition, ref = \"Control\")\n",
    "\n",
    "ddsHTSeq <- DESeq(ddsHTSeq)\n",
    "res <- results(ddsHTSeq)\n",
    "res\n",
    "resOrdered <- res[order(res$pvalue),]\n",
    "resOrdered\n",
    "\n",
    "write.csv(as.data.frame(resOrdered),\n",
    "          file=\"output/DEG_Results.csv\")\n",
    "\n",
    "\n",
    "EnhancedVolcano(res,\n",
    "                lab = rownames(res),\n",
    "                x = 'log2FoldChange',\n",
    "                y = 'pvalue',\n",
    "                xlim = c(-5, 8))"
   ]
  }
 ],
 "metadata": {
  "kernelspec": {
   "display_name": "R",
   "language": "R",
   "name": "ir"
  },
  "language_info": {
   "codemirror_mode": "r",
   "file_extension": ".r",
   "mimetype": "text/x-r-source",
   "name": "R",
   "pygments_lexer": "r",
   "version": "4.2.2"
  }
 },
 "nbformat": 4,
 "nbformat_minor": 5
}

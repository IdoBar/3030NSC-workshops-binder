{
 "cells": [
  {
   "cell_type": "markdown",
   "id": "f457c496-9a6f-4893-b0eb-8321cefd3465",
   "metadata": {},
   "source": [
    "## Workshop 4 - Multiple Sequence Alignment\n",
    "### Perform multiple alignment and create a phylogeny tree using the Linux command line\n",
    "**Remember to change the kernel to Bash or Calysto Bash before running these commands!** \n",
    "Follow the steps below to perform the analysis and use the results to answer the worksheet.   \n",
    "You will be required to write the code yourself for some of the steps, so feel free to experiment!\n"
   ]
  },
  {
   "cell_type": "markdown",
   "id": "85fde098-c412-485e-a1bc-9c370948f73f",
   "metadata": {},
   "source": [
    "1. Create a folder to work in:"
   ]
  },
  {
   "cell_type": "code",
   "execution_count": null,
   "id": "0074bb19-b078-4f97-a257-cbaea1225bcf",
   "metadata": {},
   "outputs": [],
   "source": [
    "cd ~/Workshop4_MSA"
   ]
  },
  {
   "cell_type": "markdown",
   "id": "1ae2102c-de4a-4262-b923-f2e5a3f0fced",
   "metadata": {},
   "source": [
    "3. Check the content of the file (just first 10 lines with the `head` command)"
   ]
  },
  {
   "cell_type": "code",
   "execution_count": null,
   "id": "a33e0edf-80a3-4e67-9500-f6ad86aa069b",
   "metadata": {},
   "outputs": [],
   "source": [
    "head vasa_seqs.fasta"
   ]
  },
  {
   "cell_type": "markdown",
   "id": "0060ade3-e6dc-44ec-af57-2b08ec2a4d41",
   "metadata": {},
   "source": [
    "**- What type of sequences are in the file (DNA/RNA or Protein)?**  \n",
    "4. Extract the sequence ids/accessions from the sequence headers of `vasa_seqs.fasta` and save them into `vasa_seqs.ids`"
   ]
  },
  {
   "cell_type": "code",
   "execution_count": null,
   "id": "581e4f26-a314-4fae-8ea5-39424afaf574",
   "metadata": {},
   "outputs": [],
   "source": [
    "grep \">\" vasa_seqs.fasta | cut -f1,1 -d\" \" | sed 's/>//' > vasa_seqs.ids"
   ]
  },
  {
   "cell_type": "markdown",
   "id": "c6ca6526-aa57-44d5-b67f-71b77a33de1f",
   "metadata": {},
   "source": [
    "5. Check the content of the file with the 'cat' command:"
   ]
  },
  {
   "cell_type": "code",
   "execution_count": null,
   "id": "18144076-704a-4eda-80b3-e217e6d174e1",
   "metadata": {},
   "outputs": [],
   "source": [
    "cat vasa_seqs.ids "
   ]
  },
  {
   "cell_type": "markdown",
   "id": "15301af7-7582-4901-bafc-1c0def8ca6a8",
   "metadata": {},
   "source": [
    "**- How many sequences we had in our original file (based on the list of ids)?**\n",
    "*You can use the `wc -l` command to confirm this`"
   ]
  },
  {
   "cell_type": "code",
   "execution_count": null,
   "id": "1656abcb-c1c7-40d9-a56c-75d11fcabe02",
   "metadata": {},
   "outputs": [],
   "source": []
  },
  {
   "cell_type": "markdown",
   "id": "65af17f3-6a2a-4564-a2b4-8f025108e293",
   "metadata": {},
   "source": [
    "6. Use the following commands from the [NCBI E-utilities](https://www.ncbi.nlm.nih.gov/books/NBK25501/) to retrieve vasa protein sequences and metadata based on the accessions in the fasta headers (that are saved in `vasa_seqs.ids`):"
   ]
  },
  {
   "cell_type": "code",
   "execution_count": null,
   "id": "1cd1c054-4d03-4367-8f8a-1cbd31444f48",
   "metadata": {},
   "outputs": [],
   "source": [
    "epost -db nucleotide -input vasa_seqs.ids -format acc | efetch -format fasta_cds_aa > vasa_prots.fasta\n",
    "epost -db nucleotide -input vasa_seqs.ids -format acc | esummary | xtract -pattern DocumentSummary -element Title,AccessionVersion,Organism,TaxId > vasa_prots_table.txt"
   ]
  },
  {
   "cell_type": "markdown",
   "id": "df9b776e-cf61-4f59-bd1b-8a890d43e240",
   "metadata": {},
   "source": [
    "7. Check that the files were downloaded into the current folder"
   ]
  },
  {
   "cell_type": "code",
   "execution_count": null,
   "id": "c876c712-9782-4ed6-8579-f80069240886",
   "metadata": {},
   "outputs": [],
   "source": []
  },
  {
   "cell_type": "markdown",
   "id": "fcf454da-1d23-427f-90bc-f64543e897ba",
   "metadata": {},
   "source": [
    "8. Check the content of the metadata table with `cat vasa_prots_table.txt` or print the sequence headers from the fasta file with `grep \">\" vasa_prots.fasta` "
   ]
  },
  {
   "cell_type": "code",
   "execution_count": null,
   "id": "39c5febf-4303-4d17-9f15-d4294d78267d",
   "metadata": {},
   "outputs": [],
   "source": []
  },
  {
   "cell_type": "markdown",
   "id": "7a777192-11eb-4e5d-a5ab-0d7393323283",
   "metadata": {},
   "source": [
    "**- How many proteins were downloaded?**  \n",
    "Can you count the number of entries directly in one command?"
   ]
  },
  {
   "cell_type": "code",
   "execution_count": null,
   "id": "a793e091-2637-4e4b-af7e-4debf1494d87",
   "metadata": {},
   "outputs": [],
   "source": []
  },
  {
   "cell_type": "markdown",
   "id": "e5f9d3be-e367-46e1-8ce8-ccc300f9153e",
   "metadata": {},
   "source": [
    "9. Align the vasa sequences and proteins using `probcons`\n",
    "*Note that it will take 10-15 minutes to complete, so it’s a good time to make yourself a cuppa or have a toilet break*"
   ]
  },
  {
   "cell_type": "code",
   "execution_count": null,
   "id": "39d27dfd-cf43-4649-9274-45b28e9d6b65",
   "metadata": {},
   "outputs": [],
   "source": [
    "probcons vasa_seqs.fasta > vasa_seqs_probcons.fasta"
   ]
  },
  {
   "cell_type": "markdown",
   "id": "a93296b3-4eed-416c-80e4-89f3ca604e4c",
   "metadata": {},
   "source": [
    "Now do the same for the proteins:"
   ]
  },
  {
   "cell_type": "code",
   "execution_count": null,
   "id": "66eeb280-1aa9-42e8-b5de-8fec8067bd62",
   "metadata": {},
   "outputs": [],
   "source": []
  },
  {
   "cell_type": "markdown",
   "id": "a03c6f24-0907-4511-8714-83c5289ffa4c",
   "metadata": {},
   "source": [
    "10. Convert the aligned fasta to `phylip` (phylogenetic tree) format with `bioconvert` (see [documentation](https://bioconvert.readthedocs.io/en/dev/user_guide.html#)):"
   ]
  },
  {
   "cell_type": "code",
   "execution_count": null,
   "id": "c80a862d-6c30-4e07-927a-5de5221c48a3",
   "metadata": {},
   "outputs": [],
   "source": [
    "bioconvert fasta2phylip vasa_seqs_probcons.fasta vasa_seqs_probcons.phy"
   ]
  },
  {
   "cell_type": "markdown",
   "id": "e39026dc-cba2-4fe3-8b7d-b5dee92762a8",
   "metadata": {},
   "source": [
    "11. Create a phylogenetic tree with `phyml`:"
   ]
  },
  {
   "cell_type": "code",
   "execution_count": null,
   "id": "1746471e-6d46-494c-bf94-0dadc7ebefa1",
   "metadata": {},
   "outputs": [],
   "source": [
    "phyml -i vasa_seqs_probcons.phy"
   ]
  },
  {
   "cell_type": "markdown",
   "id": "e1b0a2b8-43ef-425c-aa30-ec7ef825b67b",
   "metadata": {},
   "source": [
    "12. Download the files in `Workshop4_MSA` folder to your computer, we'll need them for the rest of the workshop!"
   ]
  }
 ],
 "metadata": {
  "kernelspec": {
   "display_name": "Calysto Bash",
   "language": "bash",
   "name": "calysto_bash"
  },
  "language_info": {
   "file_extension": ".sh",
   "help_links": [
    {
     "text": "MetaKernel Magics",
     "url": "https://metakernel.readthedocs.io/en/latest/source/README.html"
    }
   ],
   "mimetype": "text/x-sh",
   "name": "bash",
   "version": "0.2.2"
  }
 },
 "nbformat": 4,
 "nbformat_minor": 5
}

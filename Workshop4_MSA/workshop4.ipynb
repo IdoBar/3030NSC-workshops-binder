{
 "cells": [
  {
   "cell_type": "markdown",
   "id": "f457c496-9a6f-4893-b0eb-8321cefd3465",
   "metadata": {},
   "source": [
    "## Workshop 4 - Multiple Sequence Alignment\n",
    "### Perform multiple alignment and create a phylogeny tree using the Linux command line\n",
    "**Remember to change the kernel to Bash or Calysto Bash before running these commands!** \n",
    "Follow the steps below to perform the analysis and use the results to answer the worksheet.   \n",
    "You will be required to write the code yourself for some of the steps, so feel free to experiment!\n"
   ]
  },
  {
   "cell_type": "markdown",
   "id": "85fde098-c412-485e-a1bc-9c370948f73f",
   "metadata": {},
   "source": [
    "1. Create a folder to work in:"
   ]
  },
  {
   "cell_type": "code",
   "execution_count": 2,
   "id": "0074bb19-b078-4f97-a257-cbaea1225bcf",
   "metadata": {},
   "outputs": [
    {
     "name": "stdout",
     "output_type": "stream",
     "text": [
      "\n"
     ]
    }
   ],
   "source": [
    "mkdir -p ~/sandbox/week4\n",
    "cd ~/sandbox/week4"
   ]
  },
  {
   "cell_type": "markdown",
   "id": "d14e39c5-4854-40fc-b5fd-54730867be3e",
   "metadata": {},
   "source": [
    "2. Copy our input file `vasa_seqs.fasta` (or upload from your computer "
   ]
  },
  {
   "cell_type": "code",
   "execution_count": null,
   "id": "3da2bd41-a648-4933-a88c-6b58c0ab4295",
   "metadata": {},
   "outputs": [],
   "source": [
    "cp ~/Workshop4_MSA/vasa_seqs.fasta ~/sandbox/week4/"
   ]
  },
  {
   "cell_type": "markdown",
   "id": "1ae2102c-de4a-4262-b923-f2e5a3f0fced",
   "metadata": {},
   "source": [
    "3. Check the content of the file (just first 10 lines with the `head` command)"
   ]
  },
  {
   "cell_type": "code",
   "execution_count": null,
   "id": "a33e0edf-80a3-4e67-9500-f6ad86aa069b",
   "metadata": {},
   "outputs": [],
   "source": []
  },
  {
   "cell_type": "markdown",
   "id": "0060ade3-e6dc-44ec-af57-2b08ec2a4d41",
   "metadata": {},
   "source": [
    "**- What type of sequences are in the file (DNA/RNA or Protein)?**  \n",
    "4. Extract the sequence ids/accessions from the sequence headers of `vasa_seqs.fasta` and save them into `vasa_seqs.ids`"
   ]
  },
  {
   "cell_type": "code",
   "execution_count": 2,
   "id": "581e4f26-a314-4fae-8ea5-39424afaf574",
   "metadata": {},
   "outputs": [
    {
     "name": "stdout",
     "output_type": "stream",
     "text": [
      "\n"
     ]
    }
   ],
   "source": [
    "grep \">\" vasa_seqs.fasta | cut -f1,1 -d\" \" | sed 's/>//' > vasa_seqs.ids"
   ]
  },
  {
   "cell_type": "markdown",
   "id": "c6ca6526-aa57-44d5-b67f-71b77a33de1f",
   "metadata": {},
   "source": [
    "5. Check the content of the file with the 'cat' command:"
   ]
  },
  {
   "cell_type": "code",
   "execution_count": 3,
   "id": "18144076-704a-4eda-80b3-e217e6d174e1",
   "metadata": {},
   "outputs": [
    {
     "name": "stdout",
     "output_type": "stream",
     "text": [
      "AB032566.1\n",
      "JX437185.1\n",
      "JN712912.1\n",
      "KJ397267.1\n",
      "EU253482.1\n",
      "GU581280.1\n",
      "AF262962.1\n",
      "AB372211.1\n",
      "AY626785.1\n",
      "HQ412807.1\n",
      "EU035615.1\n",
      "AB235177.1\n",
      "DQ095772.2\n",
      "DQ288391.1\n",
      "AF513908.1\n",
      "\n"
     ]
    }
   ],
   "source": [
    "cat vasa_seqs.ids "
   ]
  },
  {
   "cell_type": "markdown",
   "id": "15301af7-7582-4901-bafc-1c0def8ca6a8",
   "metadata": {},
   "source": [
    "**- How many sequences we had in our original file (based on the list of ids)?**\n",
    "*You can use the `wc -l` command to confirm this`"
   ]
  },
  {
   "cell_type": "code",
   "execution_count": 4,
   "id": "1656abcb-c1c7-40d9-a56c-75d11fcabe02",
   "metadata": {},
   "outputs": [
    {
     "name": "stdout",
     "output_type": "stream",
     "text": [
      "15 vasa_seqs.ids\n",
      "\n"
     ]
    }
   ],
   "source": []
  },
  {
   "cell_type": "markdown",
   "id": "65af17f3-6a2a-4564-a2b4-8f025108e293",
   "metadata": {},
   "source": [
    "6. Use the following commands from the [NCBI E-utilities](https://www.ncbi.nlm.nih.gov/books/NBK25501/) to retrieve vasa protein sequences and metadata based on the accessions in the fasta headers (that are saved in `vasa_seqs.ids`):"
   ]
  },
  {
   "cell_type": "code",
   "execution_count": 5,
   "id": "1cd1c054-4d03-4367-8f8a-1cbd31444f48",
   "metadata": {},
   "outputs": [
    {
     "name": "stdout",
     "output_type": "stream",
     "text": [
      "<essionVersion,Organism,TaxId > vasa_prots_table.txt\n",
      "\n"
     ]
    }
   ],
   "source": [
    "epost -db nucleotide -input vasa_seqs.ids -format acc | efetch -format fasta_cds_aa > vasa_prots.fasta\n",
    "epost -db nucleotide -input vasa_seqs.ids -format acc | esummary | xtract -pattern DocumentSummary -element Title,AccessionVersion,Organism,TaxId > vasa_prots_table.txt"
   ]
  },
  {
   "cell_type": "markdown",
   "id": "df9b776e-cf61-4f59-bd1b-8a890d43e240",
   "metadata": {},
   "source": [
    "7. Check that the files were downloaded into the current folder"
   ]
  },
  {
   "cell_type": "code",
   "execution_count": null,
   "id": "c876c712-9782-4ed6-8579-f80069240886",
   "metadata": {},
   "outputs": [],
   "source": []
  },
  {
   "cell_type": "markdown",
   "id": "fcf454da-1d23-427f-90bc-f64543e897ba",
   "metadata": {},
   "source": [
    "8. Check the content of the metadata table with `cat vasa_prots_table.txt` or print the sequence headers from the fasta file with `grep \">\" vasa_prots.fasta` "
   ]
  },
  {
   "cell_type": "code",
   "execution_count": null,
   "id": "39c5febf-4303-4d17-9f15-d4294d78267d",
   "metadata": {},
   "outputs": [],
   "source": []
  },
  {
   "cell_type": "markdown",
   "id": "7a777192-11eb-4e5d-a5ab-0d7393323283",
   "metadata": {},
   "source": [
    "**- How many proteins were downloaded?**  \n",
    "Can you count the number of entries directly in one command?"
   ]
  },
  {
   "cell_type": "code",
   "execution_count": 6,
   "id": "a793e091-2637-4e4b-af7e-4debf1494d87",
   "metadata": {},
   "outputs": [
    {
     "name": "stdout",
     "output_type": "stream",
     "text": [
      "cat vasa_prots_table.txt\n",
      "Bubalus bubalis vasa mRNA, complete cds\tKJ397267.1\twater buffalo\t89462\n",
      "Bos taurus vasa mRNA, complete cds, alternatively spliced\tJX437185.1\tcattle\t9913\n",
      "Salmo salar vasa mRNA, complete cds\tJN712912.1\tAtlantic salmon\t8030\n",
      "Macropus eugenii DEAD (Asp-Glu-Ala-Asp) box polypeptide 4 transcript variant 2 (DDX4) mRNA, complete cds, alternatively spliced\tHQ412807.1\ttammar wallaby\t9315\n",
      "Rana rugosa mRNA for DEAD box protein, complete cds\tAB372211.1\tJapanese wrinkled frog\t8410\n",
      "Thunnus orientalis vasa mRNA, complete cds\tEU253482.1\tPacific bluefin tuna\t8238\n",
      "Sus scrofa VASA-like protein mRNA, complete cds\tAY626785.1\tpig\t9823\n",
      "Euthynnus affinis vasa mRNA, complete cds\tGU581280.1\teastern little tuna\t8227\n",
      "Litopenaeus vannamei vasa-like protein mRNA, complete cds\tDQ095772.2\tPacific white shrimp\t6689\n",
      "Drosophila virilis DEAD-box RNA helicase mRNA, complete cds\tAF513908.1\tDrosophila virilis\t7244\n",
      "Homo sapiens VASA protein mRNA, complete cds\tAF262962.1\thuman\t9606\n",
      "Rana nigromaculata putative ATP-dependent RNA helicase DDX4 mRNA, complete cds\tEU035615.1\tdark-spotted frog\t8409\n",
      "Botryllus primigenus Bpvas mRNA for Vasa, complete cds\tAB235177.1\tBotryllus primigenus\t62810\n",
      "Apis mellifera vasa protein (vasa) mRNA, complete cds\tDQ288391.1\thoney bee\t7460\n",
      "Oncorhynchus mykiss vas mRNA for Vasa, complete cds\tAB032566.1\trainbow trout\t8022\n",
      "\n"
     ]
    }
   ],
   "source": []
  },
  {
   "cell_type": "markdown",
   "id": "e5f9d3be-e367-46e1-8ce8-ccc300f9153e",
   "metadata": {},
   "source": [
    "9. Align the vasa sequences and proteins using `probcons`\n",
    "*Note that it will take 10-15 minutes to complete, so it’s a good time to make yourself a cuppa or have a toilet break*"
   ]
  },
  {
   "cell_type": "code",
   "execution_count": 8,
   "id": "39d27dfd-cf43-4649-9274-45b28e9d6b65",
   "metadata": {},
   "outputs": [
    {
     "name": "stdout",
     "output_type": "stream",
     "text": [
      "probcons vasa_seqs.fasta > vasa_seqs_probcons.fasta\n",
      "\n",
      "PROBCONS version 1.12 - align multiple protein sequences and print to standard output\n",
      "Written by Chuong Do\n",
      "\n",
      "Using parameter set:\n",
      "    initDistrib[] = { 0.6814756989 8.615339902e-05 8.615339902e-05 0.1591759622 0.1591759622 }\n",
      "        gapOpen[] = { 0.0119511066 0.0119511066 0.008008334786 0.008008334786 }\n",
      "      gapExtend[] = { 0.3965826333 0.3965826333 0.8988758326 0.8988758326 }\n",
      "\n",
      "Loading sequence file: vasa_seqs.fasta\n",
      "Alignment tree: (((((AB032566.1 Oncorhynchus mykiss vas mRNA for Vasa, complete cds JN712912.1 Salmo salar vasa mRNA, complete cds) (EU253482.1 Thunnus orientalis vasa mRNA, complete cds GU581280.1 Euthynnus affinis vasa mRNA, complete cds)) (AB372211.1 Rana rugosa mRNA for DEAD box protein, complete cds EU035615.1 Rana nigromaculata putative ATP-dependent RNA helicase DDX4 mRNA, complete cds)) (((JX437185.1 Bos taurus vasa mRNA, complete cds, alternatively spliced AY626785.1 Sus scrofa VASA-like protein mRNA, complete cds) HQ412807.1 Macropus eugenii DEAD (Asp-Glu-Ala-Asp) box polypeptide 4 transcript variant 2 (DDX4) mRNA, complete cds, alternatively spliced) DQ095772.2 Litopenaeus vannamei vasa-like protein mRNA, complete cds)) (((KJ397267.1 Bubalus bubalis vasa mRNA, complete cds AF262962.1 Homo sapiens VASA protein mRNA, complete cds) AB235177.1 Botryllus primigenus Bpvas mRNA for Vasa, complete cds) (DQ288391.1 Apis mellifera vasa protein (vasa) mRNA, complete cds AF513908.1 Drosophila virilis DEAD-box RNA helicase mRNA, complete cds)))\n",
      "\n",
      "\n",
      "\n"
     ]
    }
   ],
   "source": [
    "probcons vasa_seqs.fasta > vasa_seqs_probcons.fasta"
   ]
  },
  {
   "cell_type": "markdown",
   "id": "a93296b3-4eed-416c-80e4-89f3ca604e4c",
   "metadata": {},
   "source": [
    "Now do the same for the proteins:"
   ]
  },
  {
   "cell_type": "code",
   "execution_count": null,
   "id": "66eeb280-1aa9-42e8-b5de-8fec8067bd62",
   "metadata": {},
   "outputs": [],
   "source": []
  },
  {
   "cell_type": "markdown",
   "id": "a03c6f24-0907-4511-8714-83c5289ffa4c",
   "metadata": {},
   "source": [
    "10. Convert the aligned fasta to `phylip` (phylogenetic tree) format with `bioconvert` (see [documentation](https://bioconvert.readthedocs.io/en/dev/user_guide.html#)):"
   ]
  },
  {
   "cell_type": "code",
   "execution_count": 3,
   "id": "c80a862d-6c30-4e07-927a-5de5221c48a3",
   "metadata": {},
   "outputs": [
    {
     "name": "stdout",
     "output_type": "stream",
     "text": [
      "\n"
     ]
    }
   ],
   "source": [
    "bioconvert fasta2phylip vasa_seqs_probcons.fasta vasa_seqs_probcons.phy"
   ]
  },
  {
   "cell_type": "markdown",
   "id": "e39026dc-cba2-4fe3-8b7d-b5dee92762a8",
   "metadata": {},
   "source": [
    "11. Create a phylogenetic tree with `phyml`:"
   ]
  },
  {
   "cell_type": "code",
   "execution_count": null,
   "id": "1746471e-6d46-494c-bf94-0dadc7ebefa1",
   "metadata": {},
   "outputs": [],
   "source": [
    "phyml -i vasa_seqs_probcons.phy"
   ]
  },
  {
   "cell_type": "markdown",
   "id": "e1b0a2b8-43ef-425c-aa30-ec7ef825b67b",
   "metadata": {},
   "source": [
    "12. Download the files in `sandbox/week4` folder to your computer, we'll need them for the rest of the workshop!"
   ]
  }
 ],
 "metadata": {
  "kernelspec": {
   "display_name": "Calysto Bash",
   "language": "bash",
   "name": "calysto_bash"
  },
  "language_info": {
   "file_extension": ".sh",
   "help_links": [
    {
     "text": "MetaKernel Magics",
     "url": "https://metakernel.readthedocs.io/en/latest/source/README.html"
    }
   ],
   "mimetype": "text/x-sh",
   "name": "bash",
   "version": "0.2.2"
  }
 },
 "nbformat": 4,
 "nbformat_minor": 5
}

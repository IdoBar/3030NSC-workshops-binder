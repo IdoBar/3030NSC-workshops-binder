{
 "cells": [
  {
   "attachments": {},
   "cell_type": "markdown",
   "metadata": {},
   "source": [
    "### Task 4 - Use command-line tools to retrieve MC1R gene sequences and information\n",
    "**Before running the commands below make sure that the Kernel is changed to Bash or Bash Calysto!**  \n",
    "1. Activate a [conda](https://www.anaconda.com/products/distribution) environment that has all the tools we need for the analysis (and much more)"
   ]
  },
  {
   "cell_type": "code",
   "execution_count": null,
   "metadata": {
    "vscode": {
     "languageId": "shellscript"
    }
   },
   "outputs": [],
   "source": [
    "# conda config --set changeps1 False\n",
    "# source /opt/tljh/user/bin/activate bioinfo\n",
    "export PATH=\"$PATH:/home/anaconda/miniconda3/bin\""
   ]
  },
  {
   "cell_type": "markdown",
   "metadata": {},
   "source": [
    "2. Use the command line tool `datasets` to retrieve a table of primate MC1R orthologs and save them into file (`primates_mc1r.json`):"
   ]
  },
  {
   "cell_type": "code",
   "execution_count": null,
   "metadata": {
    "vscode": {
     "languageId": "shellscript"
    }
   },
   "outputs": [],
   "source": [
    "datasets summary ortholog symbol mc1r --taxon human --taxon-filter  primates > primates_mc1r.json\n",
    "# Check that we got the file in our folder:\n",
    "ls -l"
   ]
  },
  {
   "cell_type": "markdown",
   "metadata": {},
   "source": [
    "3. Get a better understanding of the file structure using `jq` (compare to the information we've seen on NCBI Genebank), what information is contained in the file? (answer in the worksheet)"
   ]
  },
  {
   "cell_type": "code",
   "execution_count": null,
   "metadata": {
    "vscode": {
     "languageId": "shellscript"
    }
   },
   "outputs": [],
   "source": [
    "cat primates_mc1r.json | jq '.' | tail -n 105"
   ]
  },
  {
   "cell_type": "markdown",
   "metadata": {},
   "source": [
    "4. Convert the data into a comma-separated-values (csv) table with `jq`:"
   ]
  },
  {
   "cell_type": "code",
   "execution_count": null,
   "metadata": {
    "vscode": {
     "languageId": "shellscript"
    }
   },
   "outputs": [],
   "source": [
    "cat primates_mc1r.json | jq -r '.genes.genes[].gene | [.gene_id, .common_name, .taxname, .tax_id, .transcripts[0].accession_version, .chromosomes[0]] | @csv' > primates_mc1r.csv\n",
    "# check the content of the file with\n",
    "cat primates_mc1r.csv"
   ]
  },
  {
   "cell_type": "markdown",
   "metadata": {},
   "source": [
    "5. Copy the data and paste into Excel (if the data doesn't automatically separate into columns, click on \"Text to Columns\" icon in the Data menu and choose comma as the delimiter).\n",
    "6. Copy the tabulated data from Excel into Table 2 in the worksheet (use right click and Paste... Merge table)\n",
    "7. Download the relevant transcript and protein sequences with these commands:"
   ]
  },
  {
   "cell_type": "code",
   "execution_count": null,
   "metadata": {
    "vscode": {
     "languageId": "shellscript"
    }
   },
   "outputs": [],
   "source": [
    "# Download the sequences from the MC1R primates orthologs as a zip file:\n",
    "datasets download ortholog symbol mc1r --taxon human --taxon-filter primates\n",
    "# Extract the files into a folder named ncbi_dataset:\n",
    "unzip ncbi_dataset.zip"
   ]
  },
  {
   "cell_type": "code",
   "execution_count": null,
   "metadata": {
    "vscode": {
     "languageId": "shellscript"
    }
   },
   "outputs": [],
   "source": [
    "# Check the content of the folder:\n",
    "ls -l ncbi_dataset/data"
   ]
  },
  {
   "cell_type": "markdown",
   "metadata": {},
   "source": [
    "8. Examine the content of the downloaded files with the `head` command:"
   ]
  },
  {
   "cell_type": "code",
   "execution_count": null,
   "metadata": {
    "vscode": {
     "languageId": "shellscript"
    }
   },
   "outputs": [],
   "source": [
    "head ncbi_dataset/data/rna.fna"
   ]
  },
  {
   "cell_type": "code",
   "execution_count": null,
   "metadata": {
    "vscode": {
     "languageId": "shellscript"
    }
   },
   "outputs": [],
   "source": [
    "head ncbi_dataset/data/protein.faa"
   ]
  },
  {
   "cell_type": "markdown",
   "metadata": {},
   "source": [
    "9. Use the `grep` command to print only the \"headers\" of each sequence and count them in each file:"
   ]
  },
  {
   "cell_type": "code",
   "execution_count": null,
   "metadata": {
    "vscode": {
     "languageId": "shellscript"
    }
   },
   "outputs": [],
   "source": [
    "grep \">\" ncbi_dataset/data/rna.fna "
   ]
  },
  {
   "attachments": {},
   "cell_type": "markdown",
   "metadata": {},
   "source": [
    "- Repeat the same as above for `protein.faa`"
   ]
  },
  {
   "cell_type": "code",
   "execution_count": null,
   "metadata": {
    "vscode": {
     "languageId": "shellscript"
    }
   },
   "outputs": [],
   "source": []
  },
  {
   "attachments": {},
   "cell_type": "markdown",
   "metadata": {},
   "source": [
    "10. Use the `grep -c` command to directly count the \"headers\" of each sequence in each file:"
   ]
  },
  {
   "cell_type": "code",
   "execution_count": null,
   "metadata": {
    "vscode": {
     "languageId": "shellscript"
    }
   },
   "outputs": [],
   "source": [
    "# With the -c flag, we can directly count the number (useful for large files)\n"
   ]
  },
  {
   "cell_type": "markdown",
   "metadata": {},
   "source": [
    "10. Answer the following questions in the worksheet:  \n",
    "\n",
    "* What file format are `rna.fna` and `protein.faa` files?\n",
    "* What's the difference between them?\n",
    "* How many entries are there in each file? "
   ]
  }
 ],
 "metadata": {
  "kernelspec": {
   "display_name": "Python 3 (ipykernel)",
   "language": "python",
   "name": "python3"
  },
  "language_info": {
   "codemirror_mode": {
    "name": "ipython",
    "version": 3
   },
   "file_extension": ".py",
   "mimetype": "text/x-python",
   "name": "python",
   "nbconvert_exporter": "python",
   "pygments_lexer": "ipython3",
   "version": "3.7.12"
  }
 },
 "nbformat": 4,
 "nbformat_minor": 4
}

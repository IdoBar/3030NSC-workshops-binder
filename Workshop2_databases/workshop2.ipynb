{
 "cells": [
  {
   "attachments": {},
   "cell_type": "markdown",
   "metadata": {},
   "source": [
    "### Task 4 -- Use command-line tools to retrieve MC1R gene sequences and information\n",
    "**Before running the commands below make sure that the Kernel is changed to Bash or Bash Calysto!**\n",
    "1. Create a folder to work in and enter that folder with the following commands:"
   ]
  },
  {
   "cell_type": "code",
   "execution_count": null,
   "metadata": {
    "vscode": {
     "languageId": "shellscript"
    }
   },
   "outputs": [],
   "source": [
    "mkdir -p sandbox\n",
    "cd sandbox"
   ]
  },
  {
   "attachments": {},
   "cell_type": "markdown",
   "metadata": {},
   "source": [
    "2. Use the command line tool `datasets` to retrieve a table of primate MC1R orthologs and save them into file (`primates_mc1r.json`):"
   ]
  },
  {
   "cell_type": "code",
   "execution_count": null,
   "metadata": {
    "vscode": {
     "languageId": "shellscript"
    }
   },
   "outputs": [],
   "source": [
    "datasets summary ortholog symbol mc1r --taxon human --taxon-filter  primates > primates_mc1r.json\n",
    "# Check that we got the file in our folder:\n",
    "ls -l"
   ]
  },
  {
   "attachments": {},
   "cell_type": "markdown",
   "metadata": {},
   "source": [
    "3. Get a better understanding of the file structure using `jq` (compare to the information we've seen on NCBI Genebank), what information is contained in the file? (answer in the worksheet)"
   ]
  },
  {
   "cell_type": "code",
   "execution_count": null,
   "metadata": {
    "vscode": {
     "languageId": "shellscript"
    }
   },
   "outputs": [],
   "source": [
    "cat primates_mc1r.json | jq '.' | tail -n 105"
   ]
  },
  {
   "attachments": {},
   "cell_type": "markdown",
   "metadata": {},
   "source": [
    "4. Convert the data into a comma-separated-values (csv) table with `jq`:"
   ]
  },
  {
   "cell_type": "code",
   "execution_count": null,
   "metadata": {
    "vscode": {
     "languageId": "shellscript"
    }
   },
   "outputs": [],
   "source": [
    "cat primates_mc1r.json | jq -r '.genes.genes[].gene | [.gene_id, .common_name, .taxname, .tax_id, .transcripts[0].accession_version, .chromosomes[0]] | @csv' > primates_mc1r.csv\n",
    "# check the content of the file with\n",
    "cat primates_mc1r.csv"
   ]
  },
  {
   "attachments": {},
   "cell_type": "markdown",
   "metadata": {},
   "source": [
    "5. Copy the data and paste into Excel (if the data doesn't automatically separate into columns, click on \"Text to Columns\" icon in the Data menu and choose comma as the delimiter).\n",
    "6. Copy the tabulated data from Excel into Table 2 in the worksheet (use right click and Paste... Merge table)\n",
    "7. Download the relevant transcript and protein sequences with these commands:"
   ]
  },
  {
   "cell_type": "code",
   "execution_count": null,
   "metadata": {
    "vscode": {
     "languageId": "shellscript"
    }
   },
   "outputs": [],
   "source": [
    "# Download the sequences from the MC1R primates orthologs as a zip file:\n",
    "datasets download ortholog symbol mc1r --taxon human --taxon-filter primates\n",
    "# Extract the files into a folder named ncbi_dataset:\n",
    "unzip ncbi_dataset.zip"
   ]
  },
  {
   "cell_type": "code",
   "execution_count": null,
   "metadata": {
    "vscode": {
     "languageId": "shellscript"
    }
   },
   "outputs": [],
   "source": [
    "# Check the content of the folder:\n",
    "ls -l ncbi_dataset/data"
   ]
  },
  {
   "attachments": {},
   "cell_type": "markdown",
   "metadata": {},
   "source": [
    "8. Examine the content of the downloaded files with the `head` command:"
   ]
  },
  {
   "cell_type": "code",
   "execution_count": null,
   "metadata": {
    "vscode": {
     "languageId": "shellscript"
    }
   },
   "outputs": [],
   "source": [
    "head ncbi_dataset/data/rna.fna"
   ]
  },
  {
   "cell_type": "code",
   "execution_count": null,
   "metadata": {
    "vscode": {
     "languageId": "shellscript"
    }
   },
   "outputs": [],
   "source": [
    "head ncbi_dataset/data/protein.faa"
   ]
  },
  {
   "attachments": {},
   "cell_type": "markdown",
   "metadata": {},
   "source": [
    "9. Use the `grep` command to print only the \"headers\" of each sequence and count them in each file:"
   ]
  },
  {
   "cell_type": "code",
   "execution_count": null,
   "metadata": {
    "vscode": {
     "languageId": "shellscript"
    }
   },
   "outputs": [],
   "source": [
    "grep \">\" ncbi_dataset/data/rna.fna "
   ]
  },
  {
   "cell_type": "code",
   "execution_count": null,
   "metadata": {
    "vscode": {
     "languageId": "shellscript"
    }
   },
   "outputs": [],
   "source": [
    "# With the -c flag, we can directly count the number (useful for large files)\n",
    "grep -c \">\" ncbi_dataset/data/protein.faa"
   ]
  },
  {
   "attachments": {},
   "cell_type": "markdown",
   "metadata": {},
   "source": [
    "10. Answer the following questions in the worksheet:  \n",
    "\n",
    "* What file format are `rna.fna` and `protein.faa` files?\n",
    "* What's the difference between them?\n",
    "* How many entries are there in each file? "
   ]
  }
 ],
 "metadata": {
  "language_info": {
   "name": "python"
  },
  "orig_nbformat": 4
 },
 "nbformat": 4,
 "nbformat_minor": 2
}
